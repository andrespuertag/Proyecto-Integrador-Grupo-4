{
 "cells": [
  {
   "cell_type": "markdown",
   "metadata": {},
   "source": [
    "# <Center> **FLUJO DE LIMPIEZA, TRANSFORMACIÓN DE DATOS Y APLICACIÓN DEL MODELO** </Center> "
   ]
  },
  {
   "cell_type": "code",
   "execution_count": 1,
   "metadata": {},
   "outputs": [],
   "source": [
    "import pandas as pd\n",
    "import joblib\n",
    "from sklearn.preprocessing import LabelEncoder\n",
    "import subprocess"
   ]
  },
  {
   "cell_type": "markdown",
   "metadata": {},
   "source": [
    "---\n",
    "---\n",
    "# <Center> **DESCARGAR EL ARCHIVO A LA ZONA RAW LOCAL DESDE S3 (INGEST)** </Center> "
   ]
  },
  {
   "cell_type": "code",
   "execution_count": 2,
   "metadata": {},
   "outputs": [
    {
     "data": {
      "text/plain": [
       "CompletedProcess(args='aws s3 cp s3://taxdatalake/RAW/DCS_Item_Extract_Report C:\\\\Users\\\\user\\\\OneDrive\\\\EAFIT\\\\MAESTRÍA_EN_CIENCIA_DE_DATOS\\\\PROYECTO_INTEGRADOR\\\\BUCKET_PROJECT\\\\1_RAW\\\\ --no-sign-request', returncode=0)"
      ]
     },
     "execution_count": 2,
     "metadata": {},
     "output_type": "execute_result"
    }
   ],
   "source": [
    "#Este paso se ejecuta a través de shell en donde se hace una descarga directa desde el bucket de S3 a través de IP's permitidas para acceder al bucket (Revisar documentación)\n",
    "cmd = \"aws s3 cp s3://taxdatalake/RAW/DCS_Item_Extract_Report C:\\\\Users\\\\user\\\\OneDrive\\\\EAFIT\\\\MAESTRÍA_EN_CIENCIA_DE_DATOS\\\\PROYECTO_INTEGRADOR\\\\BUCKET_PROJECT\\\\1_RAW\\\\ --no-sign-request\"\n",
    "\n",
    "# Correr el comando\n",
    "subprocess.run(cmd, shell=True)"
   ]
  },
  {
   "cell_type": "code",
   "execution_count": 3,
   "metadata": {},
   "outputs": [],
   "source": [
    "#Defino la ruta en donde se almacenó el archivo de S3 para recuperar los datos.\n",
    "path = r'C:\\\\Users\\\\user\\\\OneDrive\\\\EAFIT\\\\MAESTRÍA_EN_CIENCIA_DE_DATOS\\\\PROYECTO_INTEGRADOR\\\\BUCKET_PROJECT\\\\1_RAW\\\\DCS_Item_Extract_Report'"
   ]
  },
  {
   "cell_type": "code",
   "execution_count": 4,
   "metadata": {},
   "outputs": [],
   "source": [
    "#Función para realizar la limpieza de los datos desde la ruta definida\n",
    "\n",
    "def cleaning(path):\n",
    "    df = pd.read_excel(path,header = 1)\n",
    "    df = df.iloc[0:, 1:]\n",
    "    columns = df.iloc[0: ,2:20].columns\n",
    "    for column in columns:\n",
    "        df = df[df[column].notnull()]\n",
    "    return(df)\n",
    "\n",
    "df = cleaning(path)"
   ]
  },
  {
   "cell_type": "markdown",
   "metadata": {},
   "source": [
    "# <CENTER> **EXPORTAR EL DATAFRAME A LA ZONA TRUSTED** </CENTER>\n",
    "\n",
    "---\n",
    "---"
   ]
  },
  {
   "cell_type": "code",
   "execution_count": 5,
   "metadata": {},
   "outputs": [
    {
     "name": "stderr",
     "output_type": "stream",
     "text": [
      "C:\\Users\\user\\AppData\\Local\\Temp\\ipykernel_2748\\1125565649.py:3: SettingWithCopyWarning: \n",
      "A value is trying to be set on a copy of a slice from a DataFrame\n",
      "\n",
      "See the caveats in the documentation: https://pandas.pydata.org/pandas-docs/stable/user_guide/indexing.html#returning-a-view-versus-a-copy\n",
      "  target.fillna('MISS', inplace=True)\n",
      "C:\\Users\\user\\AppData\\Local\\Temp\\ipykernel_2748\\1125565649.py:4: SettingWithCopyWarning: \n",
      "A value is trying to be set on a copy of a slice from a DataFrame.\n",
      "Try using .loc[row_indexer,col_indexer] = value instead\n",
      "\n",
      "See the caveats in the documentation: https://pandas.pydata.org/pandas-docs/stable/user_guide/indexing.html#returning-a-view-versus-a-copy\n",
      "  target['VERTEX PROD ID'] = target['VERTEX PROD ID'].replace('MISS', '')\n"
     ]
    }
   ],
   "source": [
    "#Indico cuáles son las observaciones que quiero predecir a partir de mi conjunto de datos (Solo VERTEX PROD ID vacías)\n",
    "target = df[df['VERTEX PROD ID'].isnull()]\n",
    "target.fillna('MISS', inplace=True)\n",
    "target['VERTEX PROD ID'] = target['VERTEX PROD ID'].replace('MISS', '')"
   ]
  },
  {
   "cell_type": "code",
   "execution_count": 7,
   "metadata": {},
   "outputs": [],
   "source": [
    "target.to_csv(r'C:\\Users\\user\\OneDrive\\EAFIT\\MAESTRÍA_EN_CIENCIA_DE_DATOS\\PROYECTO_INTEGRADOR\\BUCKET_PROJECT\\2_TRUSTED\\DataFrame.csv', index_label='Index')"
   ]
  },
  {
   "cell_type": "markdown",
   "metadata": {},
   "source": [
    "# <CENTER> **APLICAR EL LABEL ENCODER** </CENTER>\n",
    "\n",
    "---\n",
    "---"
   ]
  },
  {
   "cell_type": "code",
   "execution_count": 8,
   "metadata": {},
   "outputs": [
    {
     "name": "stderr",
     "output_type": "stream",
     "text": [
      "c:\\Users\\user\\AppData\\Local\\Programs\\Python\\Python311\\Lib\\site-packages\\sklearn\\base.py:348: InconsistentVersionWarning: Trying to unpickle estimator OrdinalEncoder from version 1.3.0 when using version 1.3.2. This might lead to breaking code or invalid results. Use at your own risk. For more info please refer to:\n",
      "https://scikit-learn.org/stable/model_persistence.html#security-maintainability-limitations\n",
      "  warnings.warn(\n"
     ]
    }
   ],
   "source": [
    "LabelEncode = joblib.load('ordinal_encoders.joblib')"
   ]
  },
  {
   "cell_type": "code",
   "execution_count": 9,
   "metadata": {},
   "outputs": [],
   "source": [
    "def encode(df, encoding_table):\n",
    "    encoded_df = df.copy()\n",
    "\n",
    "    for col, encoder in encoding_table.items():\n",
    "        if col in encoded_df.columns:  # Check if the column exists in the DataFrame\n",
    "            # Handle NaN values before transforming\n",
    "            encoded_df[col].fillna('MISS', inplace=True)  # Adjust 'missing' as needed\n",
    "\n",
    "            # Transform the column using the encoder\n",
    "            encoded_df[col] = encoder.transform(encoded_df[[col]]).flatten()\n",
    "\n",
    "    return encoded_df"
   ]
  },
  {
   "cell_type": "code",
   "execution_count": 10,
   "metadata": {},
   "outputs": [],
   "source": [
    "target_noitem = target.iloc[:,1:]\n",
    "\n",
    "# Use the encode function to transform your data\n",
    "encoded_df = encode(target_noitem, LabelEncode)"
   ]
  },
  {
   "cell_type": "markdown",
   "metadata": {},
   "source": [
    "A partir de este punto, debemos transformar los datos a cada una de sus representaciones numéricas."
   ]
  },
  {
   "cell_type": "code",
   "execution_count": 11,
   "metadata": {},
   "outputs": [
    {
     "data": {
      "text/html": [
       "<div>\n",
       "<style scoped>\n",
       "    .dataframe tbody tr th:only-of-type {\n",
       "        vertical-align: middle;\n",
       "    }\n",
       "\n",
       "    .dataframe tbody tr th {\n",
       "        vertical-align: top;\n",
       "    }\n",
       "\n",
       "    .dataframe thead th {\n",
       "        text-align: right;\n",
       "    }\n",
       "</style>\n",
       "<table border=\"1\" class=\"dataframe\">\n",
       "  <thead>\n",
       "    <tr style=\"text-align: right;\">\n",
       "      <th></th>\n",
       "      <th>DOM RLS CODE</th>\n",
       "      <th>MANUFACT WHSE</th>\n",
       "      <th>PRODUCT CLASS</th>\n",
       "      <th>PROD CLASS DESC</th>\n",
       "      <th>ITEM HSE PROD LINE</th>\n",
       "      <th>ITEM HSE PROD LINE DESC</th>\n",
       "      <th>BUSINESS SEGMENT CDE</th>\n",
       "      <th>BUSINESS SEGMENT DESC</th>\n",
       "      <th>APPLICATION CDE</th>\n",
       "      <th>APPLICATION DESC</th>\n",
       "      <th>...</th>\n",
       "      <th>PRODUCT GROUP</th>\n",
       "      <th>PRODUCT GROUP DESC</th>\n",
       "      <th>PROD SYSTEM</th>\n",
       "      <th>PROD SYSTEM DESC</th>\n",
       "      <th>PROD SUBSYSTEM</th>\n",
       "      <th>PROD SUBSYSTEM DESC</th>\n",
       "      <th>PROD FAMILY</th>\n",
       "      <th>PROD FAMILY DESC</th>\n",
       "      <th>MANUFACT TYPE CODE</th>\n",
       "      <th>INSTRUMENT DESC</th>\n",
       "    </tr>\n",
       "  </thead>\n",
       "  <tbody>\n",
       "    <tr>\n",
       "      <th>63</th>\n",
       "      <td>16.0</td>\n",
       "      <td>10.0</td>\n",
       "      <td>43.0</td>\n",
       "      <td>35.0</td>\n",
       "      <td>3.0</td>\n",
       "      <td>4.0</td>\n",
       "      <td>2.0</td>\n",
       "      <td>8.0</td>\n",
       "      <td>20.0</td>\n",
       "      <td>25.0</td>\n",
       "      <td>...</td>\n",
       "      <td>11.0</td>\n",
       "      <td>29.0</td>\n",
       "      <td>263.0</td>\n",
       "      <td>213.0</td>\n",
       "      <td>207.0</td>\n",
       "      <td>357.0</td>\n",
       "      <td>3045.0</td>\n",
       "      <td>1682.0</td>\n",
       "      <td>2.0</td>\n",
       "      <td>4.0</td>\n",
       "    </tr>\n",
       "  </tbody>\n",
       "</table>\n",
       "<p>1 rows × 22 columns</p>\n",
       "</div>"
      ],
      "text/plain": [
       "    DOM RLS CODE  MANUFACT WHSE  PRODUCT CLASS  PROD CLASS DESC   \\\n",
       "63          16.0           10.0           43.0              35.0   \n",
       "\n",
       "    ITEM HSE PROD LINE  ITEM HSE PROD LINE DESC  BUSINESS SEGMENT CDE  \\\n",
       "63                 3.0                      4.0                   2.0   \n",
       "\n",
       "    BUSINESS SEGMENT DESC  APPLICATION CDE  APPLICATION DESC  ...  \\\n",
       "63                    8.0             20.0              25.0  ...   \n",
       "\n",
       "    PRODUCT GROUP  PRODUCT GROUP DESC  PROD SYSTEM  PROD SYSTEM DESC  \\\n",
       "63           11.0                29.0        263.0             213.0   \n",
       "\n",
       "    PROD SUBSYSTEM  PROD SUBSYSTEM DESC  PROD FAMILY  PROD FAMILY DESC  \\\n",
       "63           207.0                357.0       3045.0            1682.0   \n",
       "\n",
       "    MANUFACT TYPE CODE  INSTRUMENT DESC  \n",
       "63                 2.0              4.0  \n",
       "\n",
       "[1 rows x 22 columns]"
      ]
     },
     "execution_count": 11,
     "metadata": {},
     "output_type": "execute_result"
    }
   ],
   "source": [
    "encoded_df = encoded_df.drop('VERTEX PROD ID',axis=1)\n",
    "encoded_df.tail(1)"
   ]
  },
  {
   "cell_type": "markdown",
   "metadata": {},
   "source": [
    "# <CENTER> **EXTRAER LOS MODELOS** </CENTER>"
   ]
  },
  {
   "cell_type": "code",
   "execution_count": 12,
   "metadata": {},
   "outputs": [
    {
     "name": "stderr",
     "output_type": "stream",
     "text": [
      "c:\\Users\\user\\AppData\\Local\\Programs\\Python\\Python311\\Lib\\site-packages\\sklearn\\base.py:348: InconsistentVersionWarning: Trying to unpickle estimator DecisionTreeClassifier from version 1.3.0 when using version 1.3.2. This might lead to breaking code or invalid results. Use at your own risk. For more info please refer to:\n",
      "https://scikit-learn.org/stable/model_persistence.html#security-maintainability-limitations\n",
      "  warnings.warn(\n",
      "c:\\Users\\user\\AppData\\Local\\Programs\\Python\\Python311\\Lib\\site-packages\\sklearn\\base.py:348: InconsistentVersionWarning: Trying to unpickle estimator BaggingClassifier from version 1.3.0 when using version 1.3.2. This might lead to breaking code or invalid results. Use at your own risk. For more info please refer to:\n",
      "https://scikit-learn.org/stable/model_persistence.html#security-maintainability-limitations\n",
      "  warnings.warn(\n"
     ]
    }
   ],
   "source": [
    "#model = joblib.load(r\"trained_model_rf.pkl\")\n",
    "#model = joblib.load(r'trained_model_XG.pkl')\n",
    "#model = joblib.load(r'trained_model_Bagging.pkl')\n",
    "model = joblib.load(r'Final_model.pkl')"
   ]
  },
  {
   "cell_type": "code",
   "execution_count": 13,
   "metadata": {},
   "outputs": [],
   "source": [
    "#encoded_df['VERTEX PROD ID'] = random_forest_model.predict(encoded_df2)\n",
    "encoded_df['VERTEX PROD ID'] = model.predict(encoded_df)"
   ]
  },
  {
   "cell_type": "code",
   "execution_count": 14,
   "metadata": {},
   "outputs": [],
   "source": [
    "def decode(df, encoding_table):\n",
    "    columns = df.columns\n",
    "    for col in columns:\n",
    "        df.loc[:, col] = encoding_table[col].inverse_transform(df[col].values.reshape(-1, 1))\n",
    "    return df"
   ]
  },
  {
   "cell_type": "code",
   "execution_count": 15,
   "metadata": {},
   "outputs": [
    {
     "data": {
      "text/html": [
       "<div>\n",
       "<style scoped>\n",
       "    .dataframe tbody tr th:only-of-type {\n",
       "        vertical-align: middle;\n",
       "    }\n",
       "\n",
       "    .dataframe tbody tr th {\n",
       "        vertical-align: top;\n",
       "    }\n",
       "\n",
       "    .dataframe thead th {\n",
       "        text-align: right;\n",
       "    }\n",
       "</style>\n",
       "<table border=\"1\" class=\"dataframe\">\n",
       "  <thead>\n",
       "    <tr style=\"text-align: right;\">\n",
       "      <th></th>\n",
       "      <th>DOM RLS CODE</th>\n",
       "      <th>MANUFACT WHSE</th>\n",
       "      <th>PRODUCT CLASS</th>\n",
       "      <th>PROD CLASS DESC</th>\n",
       "      <th>ITEM HSE PROD LINE</th>\n",
       "      <th>ITEM HSE PROD LINE DESC</th>\n",
       "      <th>BUSINESS SEGMENT CDE</th>\n",
       "      <th>BUSINESS SEGMENT DESC</th>\n",
       "      <th>APPLICATION CDE</th>\n",
       "      <th>APPLICATION DESC</th>\n",
       "      <th>...</th>\n",
       "      <th>PRODUCT GROUP DESC</th>\n",
       "      <th>PROD SYSTEM</th>\n",
       "      <th>PROD SYSTEM DESC</th>\n",
       "      <th>PROD SUBSYSTEM</th>\n",
       "      <th>PROD SUBSYSTEM DESC</th>\n",
       "      <th>PROD FAMILY</th>\n",
       "      <th>PROD FAMILY DESC</th>\n",
       "      <th>MANUFACT TYPE CODE</th>\n",
       "      <th>INSTRUMENT DESC</th>\n",
       "      <th>VERTEX PROD ID</th>\n",
       "    </tr>\n",
       "  </thead>\n",
       "  <tbody>\n",
       "    <tr>\n",
       "      <th>0</th>\n",
       "      <td>4.0</td>\n",
       "      <td>2.0</td>\n",
       "      <td>9.0</td>\n",
       "      <td>61.0</td>\n",
       "      <td>9.0</td>\n",
       "      <td>3.0</td>\n",
       "      <td>8.0</td>\n",
       "      <td>17.0</td>\n",
       "      <td>30.0</td>\n",
       "      <td>57.0</td>\n",
       "      <td>...</td>\n",
       "      <td>113.0</td>\n",
       "      <td>392.0</td>\n",
       "      <td>309.0</td>\n",
       "      <td>552.0</td>\n",
       "      <td>496.0</td>\n",
       "      <td>3164.0</td>\n",
       "      <td>599.0</td>\n",
       "      <td>22.0</td>\n",
       "      <td>6.0</td>\n",
       "      <td>8</td>\n",
       "    </tr>\n",
       "    <tr>\n",
       "      <th>1</th>\n",
       "      <td>10.0</td>\n",
       "      <td>0.0</td>\n",
       "      <td>0.0</td>\n",
       "      <td>75.0</td>\n",
       "      <td>15.0</td>\n",
       "      <td>1.0</td>\n",
       "      <td>2.0</td>\n",
       "      <td>8.0</td>\n",
       "      <td>55.0</td>\n",
       "      <td>52.0</td>\n",
       "      <td>...</td>\n",
       "      <td>17.0</td>\n",
       "      <td>81.0</td>\n",
       "      <td>299.0</td>\n",
       "      <td>554.0</td>\n",
       "      <td>515.0</td>\n",
       "      <td>2730.0</td>\n",
       "      <td>2752.0</td>\n",
       "      <td>3.0</td>\n",
       "      <td>3.0</td>\n",
       "      <td>31</td>\n",
       "    </tr>\n",
       "    <tr>\n",
       "      <th>2</th>\n",
       "      <td>10.0</td>\n",
       "      <td>0.0</td>\n",
       "      <td>36.0</td>\n",
       "      <td>46.0</td>\n",
       "      <td>7.0</td>\n",
       "      <td>8.0</td>\n",
       "      <td>6.0</td>\n",
       "      <td>6.0</td>\n",
       "      <td>34.0</td>\n",
       "      <td>46.0</td>\n",
       "      <td>...</td>\n",
       "      <td>28.0</td>\n",
       "      <td>141.0</td>\n",
       "      <td>52.0</td>\n",
       "      <td>658.0</td>\n",
       "      <td>82.0</td>\n",
       "      <td>2410.0</td>\n",
       "      <td>622.0</td>\n",
       "      <td>3.0</td>\n",
       "      <td>3.0</td>\n",
       "      <td>1</td>\n",
       "    </tr>\n",
       "  </tbody>\n",
       "</table>\n",
       "<p>3 rows × 23 columns</p>\n",
       "</div>"
      ],
      "text/plain": [
       "   DOM RLS CODE  MANUFACT WHSE  PRODUCT CLASS  PROD CLASS DESC   \\\n",
       "0           4.0            2.0            9.0              61.0   \n",
       "1          10.0            0.0            0.0              75.0   \n",
       "2          10.0            0.0           36.0              46.0   \n",
       "\n",
       "   ITEM HSE PROD LINE  ITEM HSE PROD LINE DESC  BUSINESS SEGMENT CDE  \\\n",
       "0                 9.0                      3.0                   8.0   \n",
       "1                15.0                      1.0                   2.0   \n",
       "2                 7.0                      8.0                   6.0   \n",
       "\n",
       "   BUSINESS SEGMENT DESC  APPLICATION CDE  APPLICATION DESC  ...  \\\n",
       "0                   17.0             30.0              57.0  ...   \n",
       "1                    8.0             55.0              52.0  ...   \n",
       "2                    6.0             34.0              46.0  ...   \n",
       "\n",
       "   PRODUCT GROUP DESC  PROD SYSTEM  PROD SYSTEM DESC  PROD SUBSYSTEM  \\\n",
       "0               113.0        392.0             309.0           552.0   \n",
       "1                17.0         81.0             299.0           554.0   \n",
       "2                28.0        141.0              52.0           658.0   \n",
       "\n",
       "   PROD SUBSYSTEM DESC  PROD FAMILY  PROD FAMILY DESC  MANUFACT TYPE CODE  \\\n",
       "0                496.0       3164.0             599.0                22.0   \n",
       "1                515.0       2730.0            2752.0                 3.0   \n",
       "2                 82.0       2410.0             622.0                 3.0   \n",
       "\n",
       "   INSTRUMENT DESC  VERTEX PROD ID  \n",
       "0              6.0               8  \n",
       "1              3.0              31  \n",
       "2              3.0               1  \n",
       "\n",
       "[3 rows x 23 columns]"
      ]
     },
     "execution_count": 15,
     "metadata": {},
     "output_type": "execute_result"
    }
   ],
   "source": [
    "encoded_df.head(3)"
   ]
  },
  {
   "cell_type": "markdown",
   "metadata": {},
   "source": [
    "# <CENTER> **HACER PREDICCIONES** </CENTER>\n",
    "\n",
    "---\n",
    "---"
   ]
  },
  {
   "cell_type": "code",
   "execution_count": 17,
   "metadata": {},
   "outputs": [],
   "source": [
    "predicted_y = decode(encoded_df,LabelEncode)"
   ]
  },
  {
   "cell_type": "code",
   "execution_count": 22,
   "metadata": {},
   "outputs": [],
   "source": [
    "predictions = pd.merge(target.iloc[:, :1], predicted_y, left_index=True, right_index=True)"
   ]
  },
  {
   "cell_type": "code",
   "execution_count": 26,
   "metadata": {},
   "outputs": [],
   "source": [
    "#Separo las X no identificadas y que necesitan más información puesto que el modelo aún no las conoce.\n",
    "New_features = predictions[predictions.isna().any(axis=1)]"
   ]
  },
  {
   "cell_type": "code",
   "execution_count": 27,
   "metadata": {},
   "outputs": [],
   "source": [
    "#Me quedo solo con las predicciones que tienen datos completos y que serán clasificadas\n",
    "predictions = predictions[predictions.notna().all(axis=1)]"
   ]
  },
  {
   "cell_type": "markdown",
   "metadata": {},
   "source": [
    "# <CENTER> **EXPORTO MIS RESULTADOS A LA ZONA REFINED** </CENTER>"
   ]
  },
  {
   "cell_type": "code",
   "execution_count": 28,
   "metadata": {},
   "outputs": [],
   "source": [
    "New_features.to_csv(r'C:\\Users\\user\\OneDrive\\EAFIT\\MAESTRÍA_EN_CIENCIA_DE_DATOS\\PROYECTO_INTEGRADOR\\BUCKET_PROJECT\\3_REFINED\\New_features.csv', index_label='Index')"
   ]
  },
  {
   "cell_type": "code",
   "execution_count": 29,
   "metadata": {},
   "outputs": [],
   "source": [
    "predictions.to_csv(r'C:\\Users\\user\\OneDrive\\EAFIT\\MAESTRÍA_EN_CIENCIA_DE_DATOS\\PROYECTO_INTEGRADOR\\BUCKET_PROJECT\\3_REFINED\\Predictions.csv', index_label='Index')"
   ]
  }
 ],
 "metadata": {
  "kernelspec": {
   "display_name": "base",
   "language": "python",
   "name": "python3"
  },
  "language_info": {
   "codemirror_mode": {
    "name": "ipython",
    "version": 3
   },
   "file_extension": ".py",
   "mimetype": "text/x-python",
   "name": "python",
   "nbconvert_exporter": "python",
   "pygments_lexer": "ipython3",
   "version": "3.11.2"
  }
 },
 "nbformat": 4,
 "nbformat_minor": 2
}
